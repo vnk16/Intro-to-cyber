{
  "nbformat": 4,
  "nbformat_minor": 0,
  "metadata": {
    "colab": {
      "provenance": []
    },
    "kernelspec": {
      "name": "python3",
      "display_name": "Python 3"
    },
    "language_info": {
      "name": "python"
    }
  },
  "cells": [
    {
      "cell_type": "markdown",
      "source": [
        "**Symmetric encryption algorithm**\n",
        "\n",
        "Symmetric encryption in the encrpytion method in which one key is used for both the encryption and decryption.\n",
        "\n",
        "**Types of symmetric encryption algorithms**\n",
        "\n",
        "**Ceaser cipher**\n",
        "\n",
        "Ceaser cipher is the technique in which the letters of the plaintext is shifted by certain number of position.\n",
        "\n"
      ],
      "metadata": {
        "id": "R0CVWV5cf25T"
      }
    },
    {
      "cell_type": "code",
      "source": [
        "from substitutionCiphers import substitutionCipher\n",
        "\n",
        "def ceasarCipherEncryption(plainText):\n",
        "    encryptedString = substitutionCipher(plainText, 3)\n",
        "    return encryptedString\n",
        "\n",
        "def ceasarCipherDecryption(cipherText):\n",
        "    decryptedString = \"\"\n",
        "    key = 3\n",
        "    for i in (cipherText):\n",
        "        asciiValue = ord(i)\n",
        "        shiftedAsciiValue = asciiValue - key\n",
        "        if (shiftedAsciiValue < 65):\n",
        "            shiftedAsciiValue = 91 - ((65 - shiftedAsciiValue) % 26)\n",
        "            decryptedString += chr(shiftedAsciiValue)\n",
        "        elif (shiftedAsciiValue < 97 and asciiValue > 96):\n",
        "            shiftedAsciiValue = 123 - ((97 - shiftedAsciiValue) % 26)\n",
        "            decryptedString += chr(shiftedAsciiValue)\n",
        "        else:\n",
        "            decryptedString += chr(shiftedAsciiValue)\n",
        "    return decryptedString\n",
        "\n",
        "if __name__ == '__main__':\n",
        "    string = input(\"Enter the string:- \")\n",
        "    operation = int(input(\"Enter 1 to encrypt and 2 to decrypt using Caesar Cipher:- \"))\n",
        "    if (operation == 1):\n",
        "        print(f\"The encrypted string is {ceasarCipherEncryption(string)}.\")\n",
        "    elif (operation == 2):\n",
        "        print(f\"The decrypted string is {ceasarCipherDecryption(string)}.\")\n",
        "    else:\n",
        "        print(\"Enter a valid operation!\")"
      ],
      "metadata": {
        "colab": {
          "base_uri": "https://localhost:8080/"
        },
        "id": "C2QjQ3Tdo238",
        "outputId": "51ffa138-5121-49a9-ac62-f55012d5eacc"
      },
      "execution_count": null,
      "outputs": [
        {
          "output_type": "stream",
          "name": "stdout",
          "text": [
            "Enter the string:- bin\n",
            "Enter 1 to encrypt and 2 to decrypt using Caesar Cipher:- 1\n",
            "The encrypted string is elq.\n"
          ]
        }
      ]
    },
    {
      "cell_type": "markdown",
      "source": [
        "Here,this code explains that when the user inputs the plaintext the encrypted form of the plaintext is needed to be printed.So that we are converting the plaintext to the ascii value then we checking the conditions for encryption we are giving the key value then we are interchanging the letters in the plaintext.\n",
        "In the decryption part we substituting the ascii value in the plaintext to decrypt the plaintext by using the key."
      ],
      "metadata": {
        "id": "rALj7uJfpxzR"
      }
    },
    {
      "cell_type": "markdown",
      "source": [
        "**AES encryption**\n",
        "\n",
        "AES encryption is the process of encrypting and decrypting the plaintext using a key which is used for both the encryption and decryption."
      ],
      "metadata": {
        "id": "4OQ1obFb2K7-"
      }
    },
    {
      "cell_type": "code",
      "source": [
        "from Crypto.Cipher import AES\n",
        "from Crypto.Util.Padding import pad, unpad\n",
        "from Crypto.Random import get_random_bytes\n",
        "\n",
        "def encrypt_AES(message, key):\n",
        "    # Generate a random initialization vector\n",
        "    iv = get_random_bytes(AES.block_size)\n",
        "\n",
        "    # Create an AES cipher object\n",
        "    cipher = AES.new(key, AES.MODE_CBC, iv)\n",
        "\n",
        "    # Pad the message and encrypt it\n",
        "    ciphertext = cipher.encrypt(pad(message.encode(), AES.block_size))\n",
        "\n",
        "    # Return the initialization vector and ciphertext\n",
        "    return iv, ciphertext\n",
        "\n",
        "def decrypt_AES(iv, ciphertext, key):\n",
        "    # Create an AES cipher object\n",
        "    cipher = AES.new(key, AES.MODE_CBC, iv)\n",
        "\n",
        "    # Decrypt the ciphertext and unpad the result\n",
        "    decrypted_message = unpad(cipher.decrypt(ciphertext), AES.block_size)\n",
        "\n",
        "    # Return the decrypted message\n",
        "    return decrypted_message.decode()\n",
        "\n",
        "# Example usage:\n",
        "key = b'ThisIsASecretKey1234567890123456'\n",
        "message = \"Hello, this is a secret message!\"\n",
        "\n",
        "iv, ciphertext = encrypt_AES(message, key)\n",
        "decrypted_message = decrypt_AES(iv, ciphertext, key)\n",
        "\n",
        "print(\"Original message:\", message)\n",
        "print(\"Decrypted message:\", decrypted_message)"
      ],
      "metadata": {
        "colab": {
          "base_uri": "https://localhost:8080/"
        },
        "id": "75DMdJWy3nt7",
        "outputId": "adaa7f64-d0c0-46da-c79f-81a73dabd6a5"
      },
      "execution_count": null,
      "outputs": [
        {
          "output_type": "stream",
          "name": "stdout",
          "text": [
            "Original message: Hello, this is a secret message!\n",
            "Decrypted message: Hello, this is a secret message!\n"
          ]
        }
      ]
    },
    {
      "cell_type": "markdown",
      "source": [
        "In this AES encryption technique we uses the initilal vector that is randomly produced and the secret key that is use to both\n",
        "encrypt and decrypt the message."
      ],
      "metadata": {
        "id": "ZkU0xOlVI6mp"
      }
    },
    {
      "cell_type": "markdown",
      "source": [
        "**Asymmetric encryption algorithms**\n",
        "\n",
        "Asymmetric encryption is the encryption method in which the public keys are shared with everyone and there is a private key that is secret key belongs to the owner."
      ],
      "metadata": {
        "id": "Ek7qZluiLUWF"
      }
    },
    {
      "cell_type": "markdown",
      "source": [
        "** Types of asymmetric encryption algorithm**\n",
        "\n",
        "**DSA (Digital Signature Algorithm)**\n",
        "\n",
        "It is a cryptography algorithm which used to generate the digital signature."
      ],
      "metadata": {
        "id": "iYYnfCBpM1zD"
      }
    },
    {
      "cell_type": "code",
      "source": [
        "from Crypto.Signature import DSS\n",
        "from Crypto.PublicKey import DSA\n",
        "from Crypto.Hash import SHA256\n",
        "\n",
        "def generate_key_pair():\n",
        "    key = DSA.generate(2048)\n",
        "    private_key = key\n",
        "    public_key = key.publickey()\n",
        "    return private_key, public_key\n",
        "\n",
        "def sign_message(private_key, message):\n",
        "    hash_obj = SHA256.new(message)\n",
        "    signer = DSS.new(private_key, 'fips-186-3')\n",
        "    signature = signer.sign(hash_obj)\n",
        "    return signature\n",
        "\n",
        "def verify_signature(public_key, message, signature):\n",
        "    hash_obj = SHA256.new(message)\n",
        "    verifier = DSS.new(public_key, 'fips-186-3')\n",
        "    try:\n",
        "        verifier.verify(hash_obj, signature)\n",
        "        print(\"The signature is valid.\")\n",
        "    except ValueError:\n",
        "        print(\"The signature is not valid.\")\n",
        "\n",
        "# Example usage:\n",
        "if __name__ == \"__main__\":\n",
        "    private_key, public_key = generate_key_pair()\n",
        "    message = b\"Hello, World!\"\n",
        "    signature = sign_message(private_key, message)\n",
        "    verify_signature(public_key, message, signature)"
      ],
      "metadata": {
        "colab": {
          "base_uri": "https://localhost:8080/"
        },
        "id": "8-DXcGICQ5yL",
        "outputId": "65eb6595-055b-4de5-fdbb-2d6b5091b001"
      },
      "execution_count": null,
      "outputs": [
        {
          "output_type": "stream",
          "name": "stdout",
          "text": [
            "The signature is valid.\n"
          ]
        }
      ]
    },
    {
      "cell_type": "markdown",
      "source": [
        "This algorithm verifies the siganture is valid or not."
      ],
      "metadata": {
        "id": "IYhLOTDMQ8er"
      }
    },
    {
      "cell_type": "markdown",
      "source": [
        "**RSA (Rivest-Shamir-Adleman)**\n",
        "\n",
        "RSA is a type of public key cryptography used for data encryption in the e-mail and digital transactions over the internet."
      ],
      "metadata": {
        "id": "Fj2ASsbZRV9r"
      }
    },
    {
      "cell_type": "code",
      "source": [
        "from Crypto.PublicKey import RSA\n",
        "from Crypto.Cipher import PKCS1_OAEP\n",
        "\n",
        "def generate_key_pair():\n",
        "    key = RSA.generate(2048)\n",
        "    private_key = key.export_key()\n",
        "    public_key = key.publickey().export_key()\n",
        "    return private_key, public_key\n",
        "\n",
        "def encrypt_message(public_key, message):\n",
        "    key = RSA.import_key(public_key)\n",
        "    cipher = PKCS1_OAEP.new(key)\n",
        "    encrypted_message = cipher.encrypt(message)\n",
        "    return encrypted_message\n",
        "\n",
        "def decrypt_message(private_key, encrypted_message):\n",
        "    key = RSA.import_key(private_key)\n",
        "    cipher = PKCS1_OAEP.new(key)\n",
        "    decrypted_message = cipher.decrypt(encrypted_message)\n",
        "    return decrypted_message\n",
        "\n",
        "# Example usage:\n",
        "if __name__ == \"__main__\":\n",
        "    private_key, public_key = generate_key_pair()\n",
        "    message = b\"Hello, World!\"\n",
        "    encrypted_message = encrypt_message(public_key, message)\n",
        "    decrypted_message = decrypt_message(private_key, encrypted_message)\n",
        "    print(\"Original Message:\", message)\n",
        "    print(\"Decrypted Message:\", decrypted_message)"
      ],
      "metadata": {
        "colab": {
          "base_uri": "https://localhost:8080/"
        },
        "id": "KYmTH_6uR7j4",
        "outputId": "f259d04a-9e11-4a76-ef79-a8d3a33326f3"
      },
      "execution_count": null,
      "outputs": [
        {
          "output_type": "stream",
          "name": "stdout",
          "text": [
            "Original Message: b'Hello, World!'\n",
            "Decrypted Message: b'Hello, World!'\n"
          ]
        }
      ]
    },
    {
      "cell_type": "markdown",
      "source": [
        "This algorithm uses the technique to encrypt and decrypt the data using public key and the private key."
      ],
      "metadata": {
        "id": "1AiIjQ_WSPBa"
      }
    },
    {
      "cell_type": "markdown",
      "source": [
        "**Computing hash function**\n",
        "\n",
        "It is the process of converting the given set of data into a bit string."
      ],
      "metadata": {
        "id": "skPIJklzSdAn"
      }
    },
    {
      "cell_type": "code",
      "source": [
        "import hashlib\n",
        "\n",
        "def compute_hash(input_string):\n",
        "    # Encode the input string into bytes\n",
        "    encoded_string = input_string.encode('utf-8')\n",
        "\n",
        "    # Compute the hash using SHA-256\n",
        "    hash_result = hashlib.sha256(encoded_string)\n",
        "\n",
        "    # Get the hexadecimal representation of the hash\n",
        "    hex_hash = hash_result.hexdigest()\n",
        "\n",
        "    return hex_hash\n",
        "\n",
        "# Example usage:\n",
        "if __name__ == \"__main__\":\n",
        "    input_string = \"Hello, World!\"\n",
        "    hash_value = compute_hash(input_string)\n",
        "    print(\"Hash of '{}':\".format(input_string), hash_value)"
      ],
      "metadata": {
        "colab": {
          "base_uri": "https://localhost:8080/"
        },
        "id": "gdko9yctS9YP",
        "outputId": "2e076249-6e21-4e00-9de3-355778b798aa"
      },
      "execution_count": null,
      "outputs": [
        {
          "output_type": "stream",
          "name": "stdout",
          "text": [
            "Hash of 'Hello, World!': dffd6021bb2bd5b0af676290809ec3a53191dd81c7f70a4b28688a362182986f\n"
          ]
        }
      ]
    },
    {
      "cell_type": "markdown",
      "source": [
        "This code denotes that the given string is converted to a hexadecimal bits."
      ],
      "metadata": {
        "id": "VHTzomu6TChi"
      }
    }
  ]
}